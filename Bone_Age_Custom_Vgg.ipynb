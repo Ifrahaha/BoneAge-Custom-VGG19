{
  "nbformat": 4,
  "nbformat_minor": 0,
  "metadata": {
    "colab": {
      "provenance": [],
      "gpuType": "T4"
    },
    "kernelspec": {
      "name": "python3",
      "display_name": "Python 3"
    },
    "language_info": {
      "name": "python"
    },
    "accelerator": "GPU"
  },
  "cells": [
    {
      "cell_type": "code",
      "execution_count": null,
      "metadata": {
        "id": "QTvnZVVmrYhQ"
      },
      "outputs": [],
      "source": [
        "import os\n",
        "import shutil\n",
        "import random\n",
        "from tensorflow.keras.regularizers import l2\n",
        "import tensorflow as tf\n",
        "import numpy as np\n",
        "import matplotlib.pyplot as plt\n",
        "import pandas as pd\n",
        "# Importing tensorflow and its utilities\n",
        "import tensorflow as tf\n",
        "from tensorflow import keras\n",
        "from tensorflow.keras.layers import Dense, Activation\n",
        "from tensorflow.keras.optimizers import Adam\n",
        "from tensorflow.keras.metrics import categorical_crossentropy\n",
        "from tensorflow.keras.preprocessing.image import ImageDataGenerator\n",
        "from tensorflow.keras.preprocessing import image\n",
        "from tensorflow.keras.models import Model\n",
        "from tensorflow.keras.models import load_model\n",
        "from PIL import Image\n",
        "from keras.preprocessing.image import ImageDataGenerator\n",
        "import pandas as pd\n",
        "from tensorflow import keras\n",
        "from tensorflow.keras.models import Sequential\n",
        "from tensorflow.keras.layers import Dense, Flatten, Conv2D\n",
        "import numpy as np\n",
        "#from tensorflow.python.keras.applications.resnet50 import preprocess_input\n",
        "from keras.applications import *\n",
        "#from keras.preprocessing.image import load_img, img_to_array\n",
        "from tensorflow.keras.preprocessing.image import load_img, img_to_array"
      ]
    },
    {
      "cell_type": "markdown",
      "source": [
        "##Visualising the data"
      ],
      "metadata": {
        "id": "CJ8tFNAJX1dq"
      }
    },
    {
      "cell_type": "code",
      "source": [
        "base_bone_dir = os.path.join('/content/')\n",
        "age_df = pd.read_csv(os.path.join(base_bone_dir, 'boneage-training-dataset.csv' ))\n",
        "age_df['path'] = age_df['id'].map(lambda x: os.path.join(base_bone_dir,\n",
        "                                                         'boneage-training-dataset',\n",
        "                                                         'boneage-training-dataset',\n",
        "                                                         '{}.png'.format(x)))\n",
        "age_df.drop(age_df.tail(8000).index, inplace = True)\n",
        "age_df['exists'] = age_df['path'].map(os.path.exists)\n",
        "print(age_df['exists'].sum(), 'images found of', age_df.shape[0], 'total')  #checking if the allocated path exists or not\n",
        "age_df['gender'] = age_df['male'].map(lambda x: 'male' if x else 'female')\n",
        "boneage_mean = age_df['boneage'].mean()\n",
        "boneage_div = 2*age_df['boneage'].std() # it's for normalization (multiplication by 2). if you don't want it you have to remove the following #\n",
        "\n",
        "# If we don't want normalization\n",
        "#boneage_mean = 0\n",
        "#boneage_div = 1.0\n",
        "\n",
        "age_df['boneage_zscore'] = age_df['boneage'].map(lambda x: (x-boneage_mean)/boneage_div)\n",
        "age_df.dropna(inplace = True)  #dropping the null values\n",
        "age_df.sample(5)"
      ],
      "metadata": {
        "colab": {
          "base_uri": "https://localhost:8080/",
          "height": 223
        },
        "id": "d_GqVyc-u93o",
        "outputId": "3e8fe6c4-09ae-41d3-f57e-992dc595319e"
      },
      "execution_count": null,
      "outputs": [
        {
          "output_type": "stream",
          "name": "stdout",
          "text": [
            "4611 images found of 4611 total\n"
          ]
        },
        {
          "output_type": "execute_result",
          "data": {
            "text/plain": [
              "        id  boneage   male                                               path  \\\n",
              "3398  5342      120   True  /content/boneage-training-dataset/boneage-trai...   \n",
              "3868  5863      144  False  /content/boneage-training-dataset/boneage-trai...   \n",
              "1913  3513      138   True  /content/boneage-training-dataset/boneage-trai...   \n",
              "2126  3744      168   True  /content/boneage-training-dataset/boneage-trai...   \n",
              "4404  6449      156   True  /content/boneage-training-dataset/boneage-trai...   \n",
              "\n",
              "      exists  gender  boneage_zscore  \n",
              "3398    True    male       -0.096656  \n",
              "3868    True  female        0.176279  \n",
              "1913    True    male        0.108045  \n",
              "2126    True    male        0.449213  \n",
              "4404    True    male        0.312746  "
            ],
            "text/html": [
              "\n",
              "\n",
              "  <div id=\"df-3ecae79a-218f-4692-ae5e-8fdd1844f2d0\">\n",
              "    <div class=\"colab-df-container\">\n",
              "      <div>\n",
              "<style scoped>\n",
              "    .dataframe tbody tr th:only-of-type {\n",
              "        vertical-align: middle;\n",
              "    }\n",
              "\n",
              "    .dataframe tbody tr th {\n",
              "        vertical-align: top;\n",
              "    }\n",
              "\n",
              "    .dataframe thead th {\n",
              "        text-align: right;\n",
              "    }\n",
              "</style>\n",
              "<table border=\"1\" class=\"dataframe\">\n",
              "  <thead>\n",
              "    <tr style=\"text-align: right;\">\n",
              "      <th></th>\n",
              "      <th>id</th>\n",
              "      <th>boneage</th>\n",
              "      <th>male</th>\n",
              "      <th>path</th>\n",
              "      <th>exists</th>\n",
              "      <th>gender</th>\n",
              "      <th>boneage_zscore</th>\n",
              "    </tr>\n",
              "  </thead>\n",
              "  <tbody>\n",
              "    <tr>\n",
              "      <th>3398</th>\n",
              "      <td>5342</td>\n",
              "      <td>120</td>\n",
              "      <td>True</td>\n",
              "      <td>/content/boneage-training-dataset/boneage-trai...</td>\n",
              "      <td>True</td>\n",
              "      <td>male</td>\n",
              "      <td>-0.096656</td>\n",
              "    </tr>\n",
              "    <tr>\n",
              "      <th>3868</th>\n",
              "      <td>5863</td>\n",
              "      <td>144</td>\n",
              "      <td>False</td>\n",
              "      <td>/content/boneage-training-dataset/boneage-trai...</td>\n",
              "      <td>True</td>\n",
              "      <td>female</td>\n",
              "      <td>0.176279</td>\n",
              "    </tr>\n",
              "    <tr>\n",
              "      <th>1913</th>\n",
              "      <td>3513</td>\n",
              "      <td>138</td>\n",
              "      <td>True</td>\n",
              "      <td>/content/boneage-training-dataset/boneage-trai...</td>\n",
              "      <td>True</td>\n",
              "      <td>male</td>\n",
              "      <td>0.108045</td>\n",
              "    </tr>\n",
              "    <tr>\n",
              "      <th>2126</th>\n",
              "      <td>3744</td>\n",
              "      <td>168</td>\n",
              "      <td>True</td>\n",
              "      <td>/content/boneage-training-dataset/boneage-trai...</td>\n",
              "      <td>True</td>\n",
              "      <td>male</td>\n",
              "      <td>0.449213</td>\n",
              "    </tr>\n",
              "    <tr>\n",
              "      <th>4404</th>\n",
              "      <td>6449</td>\n",
              "      <td>156</td>\n",
              "      <td>True</td>\n",
              "      <td>/content/boneage-training-dataset/boneage-trai...</td>\n",
              "      <td>True</td>\n",
              "      <td>male</td>\n",
              "      <td>0.312746</td>\n",
              "    </tr>\n",
              "  </tbody>\n",
              "</table>\n",
              "</div>\n",
              "      <button class=\"colab-df-convert\" onclick=\"convertToInteractive('df-3ecae79a-218f-4692-ae5e-8fdd1844f2d0')\"\n",
              "              title=\"Convert this dataframe to an interactive table.\"\n",
              "              style=\"display:none;\">\n",
              "\n",
              "  <svg xmlns=\"http://www.w3.org/2000/svg\" height=\"24px\"viewBox=\"0 0 24 24\"\n",
              "       width=\"24px\">\n",
              "    <path d=\"M0 0h24v24H0V0z\" fill=\"none\"/>\n",
              "    <path d=\"M18.56 5.44l.94 2.06.94-2.06 2.06-.94-2.06-.94-.94-2.06-.94 2.06-2.06.94zm-11 1L8.5 8.5l.94-2.06 2.06-.94-2.06-.94L8.5 2.5l-.94 2.06-2.06.94zm10 10l.94 2.06.94-2.06 2.06-.94-2.06-.94-.94-2.06-.94 2.06-2.06.94z\"/><path d=\"M17.41 7.96l-1.37-1.37c-.4-.4-.92-.59-1.43-.59-.52 0-1.04.2-1.43.59L10.3 9.45l-7.72 7.72c-.78.78-.78 2.05 0 2.83L4 21.41c.39.39.9.59 1.41.59.51 0 1.02-.2 1.41-.59l7.78-7.78 2.81-2.81c.8-.78.8-2.07 0-2.86zM5.41 20L4 18.59l7.72-7.72 1.47 1.35L5.41 20z\"/>\n",
              "  </svg>\n",
              "      </button>\n",
              "\n",
              "\n",
              "\n",
              "    <div id=\"df-fae5ca05-0a2f-428b-b74e-ce5496941298\">\n",
              "      <button class=\"colab-df-quickchart\" onclick=\"quickchart('df-fae5ca05-0a2f-428b-b74e-ce5496941298')\"\n",
              "              title=\"Suggest charts.\"\n",
              "              style=\"display:none;\">\n",
              "\n",
              "<svg xmlns=\"http://www.w3.org/2000/svg\" height=\"24px\"viewBox=\"0 0 24 24\"\n",
              "     width=\"24px\">\n",
              "    <g>\n",
              "        <path d=\"M19 3H5c-1.1 0-2 .9-2 2v14c0 1.1.9 2 2 2h14c1.1 0 2-.9 2-2V5c0-1.1-.9-2-2-2zM9 17H7v-7h2v7zm4 0h-2V7h2v10zm4 0h-2v-4h2v4z\"/>\n",
              "    </g>\n",
              "</svg>\n",
              "      </button>\n",
              "    </div>\n",
              "\n",
              "<style>\n",
              "  .colab-df-quickchart {\n",
              "    background-color: #E8F0FE;\n",
              "    border: none;\n",
              "    border-radius: 50%;\n",
              "    cursor: pointer;\n",
              "    display: none;\n",
              "    fill: #1967D2;\n",
              "    height: 32px;\n",
              "    padding: 0 0 0 0;\n",
              "    width: 32px;\n",
              "  }\n",
              "\n",
              "  .colab-df-quickchart:hover {\n",
              "    background-color: #E2EBFA;\n",
              "    box-shadow: 0px 1px 2px rgba(60, 64, 67, 0.3), 0px 1px 3px 1px rgba(60, 64, 67, 0.15);\n",
              "    fill: #174EA6;\n",
              "  }\n",
              "\n",
              "  [theme=dark] .colab-df-quickchart {\n",
              "    background-color: #3B4455;\n",
              "    fill: #D2E3FC;\n",
              "  }\n",
              "\n",
              "  [theme=dark] .colab-df-quickchart:hover {\n",
              "    background-color: #434B5C;\n",
              "    box-shadow: 0px 1px 3px 1px rgba(0, 0, 0, 0.15);\n",
              "    filter: drop-shadow(0px 1px 2px rgba(0, 0, 0, 0.3));\n",
              "    fill: #FFFFFF;\n",
              "  }\n",
              "</style>\n",
              "\n",
              "    <script>\n",
              "      async function quickchart(key) {\n",
              "        const containerElement = document.querySelector('#' + key);\n",
              "        const charts = await google.colab.kernel.invokeFunction(\n",
              "            'suggestCharts', [key], {});\n",
              "      }\n",
              "    </script>\n",
              "\n",
              "      <script>\n",
              "\n",
              "function displayQuickchartButton(domScope) {\n",
              "  let quickchartButtonEl =\n",
              "    domScope.querySelector('#df-fae5ca05-0a2f-428b-b74e-ce5496941298 button.colab-df-quickchart');\n",
              "  quickchartButtonEl.style.display =\n",
              "    google.colab.kernel.accessAllowed ? 'block' : 'none';\n",
              "}\n",
              "\n",
              "        displayQuickchartButton(document);\n",
              "      </script>\n",
              "      <style>\n",
              "    .colab-df-container {\n",
              "      display:flex;\n",
              "      flex-wrap:wrap;\n",
              "      gap: 12px;\n",
              "    }\n",
              "\n",
              "    .colab-df-convert {\n",
              "      background-color: #E8F0FE;\n",
              "      border: none;\n",
              "      border-radius: 50%;\n",
              "      cursor: pointer;\n",
              "      display: none;\n",
              "      fill: #1967D2;\n",
              "      height: 32px;\n",
              "      padding: 0 0 0 0;\n",
              "      width: 32px;\n",
              "    }\n",
              "\n",
              "    .colab-df-convert:hover {\n",
              "      background-color: #E2EBFA;\n",
              "      box-shadow: 0px 1px 2px rgba(60, 64, 67, 0.3), 0px 1px 3px 1px rgba(60, 64, 67, 0.15);\n",
              "      fill: #174EA6;\n",
              "    }\n",
              "\n",
              "    [theme=dark] .colab-df-convert {\n",
              "      background-color: #3B4455;\n",
              "      fill: #D2E3FC;\n",
              "    }\n",
              "\n",
              "    [theme=dark] .colab-df-convert:hover {\n",
              "      background-color: #434B5C;\n",
              "      box-shadow: 0px 1px 3px 1px rgba(0, 0, 0, 0.15);\n",
              "      filter: drop-shadow(0px 1px 2px rgba(0, 0, 0, 0.3));\n",
              "      fill: #FFFFFF;\n",
              "    }\n",
              "  </style>\n",
              "\n",
              "      <script>\n",
              "        const buttonEl =\n",
              "          document.querySelector('#df-3ecae79a-218f-4692-ae5e-8fdd1844f2d0 button.colab-df-convert');\n",
              "        buttonEl.style.display =\n",
              "          google.colab.kernel.accessAllowed ? 'block' : 'none';\n",
              "\n",
              "        async function convertToInteractive(key) {\n",
              "          const element = document.querySelector('#df-3ecae79a-218f-4692-ae5e-8fdd1844f2d0');\n",
              "          const dataTable =\n",
              "            await google.colab.kernel.invokeFunction('convertToInteractive',\n",
              "                                                     [key], {});\n",
              "          if (!dataTable) return;\n",
              "\n",
              "          const docLinkHtml = 'Like what you see? Visit the ' +\n",
              "            '<a target=\"_blank\" href=https://colab.research.google.com/notebooks/data_table.ipynb>data table notebook</a>'\n",
              "            + ' to learn more about interactive tables.';\n",
              "          element.innerHTML = '';\n",
              "          dataTable['output_type'] = 'display_data';\n",
              "          await google.colab.output.renderOutput(dataTable, element);\n",
              "          const docLink = document.createElement('div');\n",
              "          docLink.innerHTML = docLinkHtml;\n",
              "          element.appendChild(docLink);\n",
              "        }\n",
              "      </script>\n",
              "    </div>\n",
              "  </div>\n"
            ]
          },
          "metadata": {},
          "execution_count": 5
        }
      ]
    },
    {
      "cell_type": "markdown",
      "source": [
        "##Loading data from ImageDataGenerator"
      ],
      "metadata": {
        "id": "gFyIxxC2X6-6"
      }
    },
    {
      "cell_type": "code",
      "source": [
        "train_df = pd.read_csv(\"/content/boneage-training-dataset.csv\")\n",
        "# quadratic approach\n",
        "quadratic = True\n",
        "image_size = 256\n",
        "\n",
        "# some kind of ratio if not quadratic approach\n",
        "img_rows = image_size if quadratic else 144\n",
        "img_cols = image_size if quadratic else 114\n",
        "\n",
        "\n",
        "def read_and_prep_images(img_paths, img_height, img_width, color_mode=\"grayscale\"):\n",
        "    imgs = [load_img(img_path, target_size=(img_height, img_width), color_mode=color_mode) for img_path in img_paths]\n",
        "    img_array = np.array([img_to_array(img) for img in imgs])\n",
        "    #output = preprocess_input(img_array)\n",
        "    return(img_array)\n",
        "\n",
        "\n",
        "train_df['imagepath'] = [f'{pid}.png' for pid in train_df.id]\n",
        "#Lazy way of creating training and test set.\n",
        "train = train_df.head(10000)\n",
        "test = train_df.tail(2600)\n",
        "\n",
        "\n",
        "datagen=ImageDataGenerator(rescale=1./255, rotation_range=20, zoom_range=0.15,\n",
        "                           width_shift_range=0.2, height_shift_range=0.2, shear_range=0.15,\n",
        "                           horizontal_flip=True, fill_mode=\"nearest\")\n",
        "train_generator=datagen.flow_from_dataframe(dataframe=train,\n",
        "                                            directory=\"/content/boneage-training-dataset/boneage-training-dataset/\",\n",
        "                                            x_col=\"imagepath\",\n",
        "                                            y_col=\"boneage\",\n",
        "                                            class_mode=\"other\",\n",
        "                                            target_size=(img_rows,img_cols),\n",
        "                                            batch_size=32)\n",
        "\n",
        "valid_generator=datagen.flow_from_dataframe(dataframe=test,\n",
        "                                            directory=\"/content/boneage-training-dataset/boneage-training-dataset/\",\n",
        "                                            x_col=\"imagepath\",\n",
        "                                            y_col=\"boneage\",\n",
        "                                            class_mode=\"other\",\n",
        "                                            target_size=(img_rows,img_cols),\n",
        "                                            batch_size=32)\n",
        "\n",
        "STEP_SIZE_TRAIN=train_generator.n//train_generator.batch_size\n",
        "STEP_SIZE_VALID=valid_generator.n//valid_generator.batch_size"
      ],
      "metadata": {
        "colab": {
          "base_uri": "https://localhost:8080/"
        },
        "id": "81mvhahxBubI",
        "outputId": "94e9d5fc-6150-471d-9d34-b80ba134365d"
      },
      "execution_count": null,
      "outputs": [
        {
          "output_type": "stream",
          "name": "stdout",
          "text": [
            "Found 10000 validated image filenames.\n",
            "Found 2600 validated image filenames.\n"
          ]
        }
      ]
    },
    {
      "cell_type": "markdown",
      "source": [
        "##Importing VGG19"
      ],
      "metadata": {
        "id": "nZVmJbPrX_Yq"
      }
    },
    {
      "cell_type": "code",
      "source": [
        "vgg19 = tf.keras.applications.VGG19()"
      ],
      "metadata": {
        "id": "wxCHgYoDsaaO",
        "colab": {
          "base_uri": "https://localhost:8080/"
        },
        "outputId": "c6a11a1d-8dd2-4b79-9fea-9b11188d3fac"
      },
      "execution_count": null,
      "outputs": [
        {
          "output_type": "stream",
          "name": "stdout",
          "text": [
            "Downloading data from https://storage.googleapis.com/tensorflow/keras-applications/vgg19/vgg19_weights_tf_dim_ordering_tf_kernels.h5\n",
            "574710816/574710816 [==============================] - 3s 0us/step\n"
          ]
        }
      ]
    },
    {
      "cell_type": "code",
      "source": [
        "vgg19.summary()"
      ],
      "metadata": {
        "colab": {
          "base_uri": "https://localhost:8080/"
        },
        "id": "jLFuDYsKwsHO",
        "outputId": "79234634-4ed5-46c1-b3b2-21723e6e1760"
      },
      "execution_count": null,
      "outputs": [
        {
          "output_type": "stream",
          "name": "stdout",
          "text": [
            "Model: \"vgg19\"\n",
            "_________________________________________________________________\n",
            " Layer (type)                Output Shape              Param #   \n",
            "=================================================================\n",
            " input_1 (InputLayer)        [(None, 224, 224, 3)]     0         \n",
            "                                                                 \n",
            " block1_conv1 (Conv2D)       (None, 224, 224, 64)      1792      \n",
            "                                                                 \n",
            " block1_conv2 (Conv2D)       (None, 224, 224, 64)      36928     \n",
            "                                                                 \n",
            " block1_pool (MaxPooling2D)  (None, 112, 112, 64)      0         \n",
            "                                                                 \n",
            " block2_conv1 (Conv2D)       (None, 112, 112, 128)     73856     \n",
            "                                                                 \n",
            " block2_conv2 (Conv2D)       (None, 112, 112, 128)     147584    \n",
            "                                                                 \n",
            " block2_pool (MaxPooling2D)  (None, 56, 56, 128)       0         \n",
            "                                                                 \n",
            " block3_conv1 (Conv2D)       (None, 56, 56, 256)       295168    \n",
            "                                                                 \n",
            " block3_conv2 (Conv2D)       (None, 56, 56, 256)       590080    \n",
            "                                                                 \n",
            " block3_conv3 (Conv2D)       (None, 56, 56, 256)       590080    \n",
            "                                                                 \n",
            " block3_conv4 (Conv2D)       (None, 56, 56, 256)       590080    \n",
            "                                                                 \n",
            " block3_pool (MaxPooling2D)  (None, 28, 28, 256)       0         \n",
            "                                                                 \n",
            " block4_conv1 (Conv2D)       (None, 28, 28, 512)       1180160   \n",
            "                                                                 \n",
            " block4_conv2 (Conv2D)       (None, 28, 28, 512)       2359808   \n",
            "                                                                 \n",
            " block4_conv3 (Conv2D)       (None, 28, 28, 512)       2359808   \n",
            "                                                                 \n",
            " block4_conv4 (Conv2D)       (None, 28, 28, 512)       2359808   \n",
            "                                                                 \n",
            " block4_pool (MaxPooling2D)  (None, 14, 14, 512)       0         \n",
            "                                                                 \n",
            " block5_conv1 (Conv2D)       (None, 14, 14, 512)       2359808   \n",
            "                                                                 \n",
            " block5_conv2 (Conv2D)       (None, 14, 14, 512)       2359808   \n",
            "                                                                 \n",
            " block5_conv3 (Conv2D)       (None, 14, 14, 512)       2359808   \n",
            "                                                                 \n",
            " block5_conv4 (Conv2D)       (None, 14, 14, 512)       2359808   \n",
            "                                                                 \n",
            " block5_pool (MaxPooling2D)  (None, 7, 7, 512)         0         \n",
            "                                                                 \n",
            " flatten (Flatten)           (None, 25088)             0         \n",
            "                                                                 \n",
            " fc1 (Dense)                 (None, 4096)              102764544 \n",
            "                                                                 \n",
            " fc2 (Dense)                 (None, 4096)              16781312  \n",
            "                                                                 \n",
            " predictions (Dense)         (None, 1000)              4097000   \n",
            "                                                                 \n",
            "=================================================================\n",
            "Total params: 143,667,240\n",
            "Trainable params: 143,667,240\n",
            "Non-trainable params: 0\n",
            "_________________________________________________________________\n"
          ]
        }
      ]
    },
    {
      "cell_type": "markdown",
      "source": [
        "##Customization for Use Case"
      ],
      "metadata": {
        "id": "r9i_NhDlYHVE"
      }
    },
    {
      "cell_type": "code",
      "source": [
        "from tensorflow.keras import layers\n",
        "# Removiand adding our output layer\n",
        "x = vgg19.layers[-5].output\n",
        "x = tf.keras.layers.Conv2D(7, 3, strides=1, padding='same')(x)\n",
        "x = Activation('relu')(x)\n",
        "x = tf.keras.layers.MaxPooling2D(2, strides=2)(x)\n",
        "x = tf.keras.layers.Conv2D(3, 3, strides=1, padding='same')(x)\n",
        "x = Activation('relu')(x)\n",
        "x = tf.keras.layers.Conv2D(2, 3, strides=1, padding='same')(x)\n",
        "x = Activation('relu')(x)\n",
        "x = tf.keras.layers.MaxPooling2D(2, strides=2)(x)\n",
        "#x = tf.keras.layers.Flatten()(x)\n",
        "x = Dense(units=512, activation='linear')(x)\n",
        "x = Dense(units=256, activation='linear')(x)\n",
        "x = Dense(units=64, activation='linear')(x)\n",
        "\n",
        "\n",
        "output = Dense(units=1, kernel_regularizer=l2(0.01), activation='linear')(x)\n",
        "\n",
        "x = vgg19.layers[-5].output\n",
        "x = Dense(units=512, activation='linear')(x)\n",
        "x = Dense(units=256, activation='linear')(x)\n",
        "x = Dense(units=64, activation='linear')(x)\n",
        "output = Dense(units=1, kernel_regularizer=l2(0.01), activation='linear')(x)"
      ],
      "metadata": {
        "id": "muqSlOGUsdki"
      },
      "execution_count": null,
      "outputs": []
    },
    {
      "cell_type": "code",
      "source": [
        "x = vgg19.layers[-5].output\n",
        "output = Dense(units=1, kernel_regularizer=l2(0.01), activation='linear')(x)"
      ],
      "metadata": {
        "id": "Yy-Vl9upBQVC"
      },
      "execution_count": null,
      "outputs": []
    },
    {
      "cell_type": "code",
      "source": [
        "model = Model(inputs=vgg19.input, outputs=output)"
      ],
      "metadata": {
        "id": "iyvJsKvvsf9-"
      },
      "execution_count": null,
      "outputs": []
    },
    {
      "cell_type": "code",
      "source": [
        "from keras.metrics import mean_absolute_error\n",
        "def mae_months(in_gt, in_pred):\n",
        "    return mean_absolute_error(boneage_div*in_gt, boneage_div*in_pred)"
      ],
      "metadata": {
        "id": "lB6-zJf8FHkm"
      },
      "execution_count": null,
      "outputs": []
    },
    {
      "cell_type": "code",
      "source": [
        "model.summary()"
      ],
      "metadata": {
        "colab": {
          "base_uri": "https://localhost:8080/"
        },
        "id": "xl8lkX6oxJTV",
        "outputId": "9f0ccfb8-e95e-4b3c-e6af-6c9712711338"
      },
      "execution_count": null,
      "outputs": [
        {
          "output_type": "stream",
          "name": "stdout",
          "text": [
            "Model: \"model\"\n",
            "_________________________________________________________________\n",
            " Layer (type)                Output Shape              Param #   \n",
            "=================================================================\n",
            " input_1 (InputLayer)        [(None, 224, 224, 3)]     0         \n",
            "                                                                 \n",
            " block1_conv1 (Conv2D)       (None, 224, 224, 64)      1792      \n",
            "                                                                 \n",
            " block1_conv2 (Conv2D)       (None, 224, 224, 64)      36928     \n",
            "                                                                 \n",
            " block1_pool (MaxPooling2D)  (None, 112, 112, 64)      0         \n",
            "                                                                 \n",
            " block2_conv1 (Conv2D)       (None, 112, 112, 128)     73856     \n",
            "                                                                 \n",
            " block2_conv2 (Conv2D)       (None, 112, 112, 128)     147584    \n",
            "                                                                 \n",
            " block2_pool (MaxPooling2D)  (None, 56, 56, 128)       0         \n",
            "                                                                 \n",
            " block3_conv1 (Conv2D)       (None, 56, 56, 256)       295168    \n",
            "                                                                 \n",
            " block3_conv2 (Conv2D)       (None, 56, 56, 256)       590080    \n",
            "                                                                 \n",
            " block3_conv3 (Conv2D)       (None, 56, 56, 256)       590080    \n",
            "                                                                 \n",
            " block3_conv4 (Conv2D)       (None, 56, 56, 256)       590080    \n",
            "                                                                 \n",
            " block3_pool (MaxPooling2D)  (None, 28, 28, 256)       0         \n",
            "                                                                 \n",
            " block4_conv1 (Conv2D)       (None, 28, 28, 512)       1180160   \n",
            "                                                                 \n",
            " block4_conv2 (Conv2D)       (None, 28, 28, 512)       2359808   \n",
            "                                                                 \n",
            " block4_conv3 (Conv2D)       (None, 28, 28, 512)       2359808   \n",
            "                                                                 \n",
            " block4_conv4 (Conv2D)       (None, 28, 28, 512)       2359808   \n",
            "                                                                 \n",
            " block4_pool (MaxPooling2D)  (None, 14, 14, 512)       0         \n",
            "                                                                 \n",
            " block5_conv1 (Conv2D)       (None, 14, 14, 512)       2359808   \n",
            "                                                                 \n",
            " block5_conv2 (Conv2D)       (None, 14, 14, 512)       2359808   \n",
            "                                                                 \n",
            " block5_conv3 (Conv2D)       (None, 14, 14, 512)       2359808   \n",
            "                                                                 \n",
            " block5_conv4 (Conv2D)       (None, 14, 14, 512)       2359808   \n",
            "                                                                 \n",
            " block5_pool (MaxPooling2D)  (None, 7, 7, 512)         0         \n",
            "                                                                 \n",
            " dense (Dense)               (None, 7, 7, 512)         262656    \n",
            "                                                                 \n",
            " dense_1 (Dense)             (None, 7, 7, 256)         131328    \n",
            "                                                                 \n",
            " dense_2 (Dense)             (None, 7, 7, 64)          16448     \n",
            "                                                                 \n",
            " dense_3 (Dense)             (None, 7, 7, 1)           65        \n",
            "                                                                 \n",
            "=================================================================\n",
            "Total params: 20,434,881\n",
            "Trainable params: 20,434,881\n",
            "Non-trainable params: 0\n",
            "_________________________________________________________________\n"
          ]
        }
      ]
    },
    {
      "cell_type": "code",
      "source": [
        "model.compile(optimizer=Adam(learning_rate=0.0001), loss='hinge', metrics=[mae_months, 'mae'])"
      ],
      "metadata": {
        "id": "QdD19Evrsg48"
      },
      "execution_count": null,
      "outputs": []
    },
    {
      "cell_type": "code",
      "source": [
        "from keras.callbacks import ModelCheckpoint, LearningRateScheduler, EarlyStopping, ReduceLROnPlateau\n",
        "weight_path=\"{}_weights_custom.h5\".format('bone_age')\n",
        "\n",
        "checkpoint = ModelCheckpoint(weight_path, monitor='val_loss', verbose=1,\n",
        "                             save_best_only=True, mode='min', save_weights_only = True)\n",
        "\n",
        "\n",
        "reduceLROnPlat = ReduceLROnPlateau(monitor='val_loss', factor=0.8, patience=10, verbose=1, mode='auto', epsilon=0.0001, cooldown=5, min_lr=0.0001)\n",
        "early = EarlyStopping(monitor=\"val_loss\", mode=\"min\", patience=8) #patience of 5 because limit in terms of resources, if you can increase the values.\n",
        "callbacks_list = [checkpoint, early, reduceLROnPlat]"
      ],
      "metadata": {
        "colab": {
          "base_uri": "https://localhost:8080/"
        },
        "id": "e37Nss4Hsgzr",
        "outputId": "20a817b9-1a03-4d5b-eb02-08cc557efbc4"
      },
      "execution_count": null,
      "outputs": [
        {
          "output_type": "stream",
          "name": "stderr",
          "text": [
            "WARNING:tensorflow:`epsilon` argument is deprecated and will be removed, use `min_delta` instead.\n"
          ]
        }
      ]
    },
    {
      "cell_type": "code",
      "source": [
        "history = model.fit(train_generator, epochs=20, validation_data=valid_generator, validation_split=0.2, batch_size=200, verbose=1  )"
      ],
      "metadata": {
        "id": "UqAKINdlrMF9"
      },
      "execution_count": null,
      "outputs": []
    },
    {
      "cell_type": "markdown",
      "source": [
        "##Saving the model"
      ],
      "metadata": {
        "id": "DGg60c8wYYBp"
      }
    },
    {
      "cell_type": "code",
      "source": [
        "model.save('\\content\\boneage_custom_vgg.h5')"
      ],
      "metadata": {
        "id": "GHj7gtpArQKs"
      },
      "execution_count": null,
      "outputs": []
    },
    {
      "cell_type": "code",
      "source": [
        "from sklearn.metrics import mean_absolute_error as sk_mae\n",
        "\n",
        "pred_Y = boneage_div*model.predict(test_X, batch_size = 32, verbose = True)+boneage_mean\n",
        "test_Y_months = boneage_div*test_Y+boneage_mean\n",
        "print(\"Mean absolute error on test data: \"+str(sk_mae(test_Y_months,pred_Y)))"
      ],
      "metadata": {
        "id": "QkmoGRv67B5j"
      },
      "execution_count": null,
      "outputs": []
    },
    {
      "cell_type": "code",
      "source": [
        "fig, ax1 = plt.subplots(1,1, figsize = (6,6))\n",
        "ax1.plot(test_Y_months, pred_Y, 'r.', label = 'predictions')\n",
        "ax1.plot(test_Y_months, test_Y_months, 'b-', label = 'actual')\n",
        "ax1.legend()\n",
        "ax1.set_xlabel('Actual Age (Months)')\n",
        "ax1.set_ylabel('Predicted Age (Months)')"
      ],
      "metadata": {
        "id": "m5fNNX1X8AAN"
      },
      "execution_count": null,
      "outputs": []
    },
    {
      "cell_type": "code",
      "source": [
        "ord_idx = np.argsort(test_Y)\n",
        "ord_idx = ord_idx[np.linspace(0, len(ord_idx)-1, 8).astype(int)] # take 8 evenly spaced ones\n",
        "fig, m_axs = plt.subplots(4, 2, figsize = (16, 32))\n",
        "sum = 0\n",
        "counter = 0\n",
        "for (idx, c_ax) in zip(ord_idx, m_axs.flatten()):\n",
        "    c_ax.imshow(test_X[idx, :,:,0], cmap = 'bone')\n",
        "\n",
        "    c_ax.set_title('Age: %2.1fY\\nPredicted Age: %2.1fY' % (test_Y_months[idx]/12.0,\n",
        "                                                           pred_Y[idx]/12.0))\n",
        "    temp_test = test_Y_months[idx]/12.0\n",
        "    temp_pred = pred_Y[idx]/12.0\n",
        "    sum = sum + (temp_test - temp_pred)\n",
        "    counter = counter + 1\n",
        "    c_ax.axis('off')\n",
        "fig.savefig('trained_img_predictions.png', dpi = 300)\n",
        "sum = sum/counter\n",
        "print(\"Average Deviation : \" , sum)"
      ],
      "metadata": {
        "id": "Z8q9Ka188HhG"
      },
      "execution_count": null,
      "outputs": []
    }
  ]
}